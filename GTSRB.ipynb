{
 "cells": [
  {
   "cell_type": "markdown",
   "metadata": {},
   "source": [
    "# GTSRB task"
   ]
  },
  {
   "cell_type": "code",
   "execution_count": 3,
   "metadata": {},
   "outputs": [],
   "source": [
    "import numpy as np\n",
    "import cv2 as cv\n",
    "from sklearn.preprocessing import normalize\n",
    "import scipy\n"
   ]
  },
  {
   "cell_type": "markdown",
   "metadata": {},
   "source": [
    "### Read the data"
   ]
  },
  {
   "cell_type": "code",
   "execution_count": 4,
   "metadata": {},
   "outputs": [],
   "source": [
    "#TODO read the data \n",
    "# The German Traffic Sign Recognition Benchmark\n",
    "#\n",
    "# sample code for reading the traffic sign images and the\n",
    "# corresponding labels\n",
    "#\n",
    "# example:\n",
    "#            \n",
    "# trainImages, trainLabels = readTrafficSigns('GTSRB/Training')\n",
    "# print len(trainLabels), len(trainImages)\n",
    "# plt.imshow(trainImages[42])\n",
    "# plt.show()\n",
    "#\n",
    "# have fun, Christian\n",
    "\n",
    "import matplotlib.pyplot as plt\n",
    "import csv\n",
    "\n",
    "# function for reading the images\n",
    "# arguments: path to the traffic sign data, for example './GTSRB/Training'\n",
    "# returns: list of images, list of corresponding labels \n",
    "def readTrafficSigns(rootpath):\n",
    "    '''Reads traffic sign data for German Traffic Sign Recognition Benchmark.\n",
    "\n",
    "    Arguments: path to the traffic sign data, for example './GTSRB/Training'\n",
    "    Returns:   list of images, list of corresponding labels'''\n",
    "    images = [] # images\n",
    "    labels = [] # corresponding labels\n",
    "    # loop over all 42 classes\n",
    "    for c in range(0,43):\n",
    "        prefix = rootpath + '/' + format(c, '05d') + '/' # subdirectory for class\n",
    "        gtFile = open(prefix + 'GT-'+ format(c, '05d') + '.csv') # annotations file\n",
    "        gtReader = csv.reader(gtFile, delimiter=';') # csv parser for annotations file\n",
    "        next(gtReader) # skip header\n",
    "        # loop over all images in current annotations file\n",
    "        for row in gtReader:\n",
    "            images.append(plt.imread(prefix + row[0])) # the 1th column is the filename\n",
    "            labels.append(row[7]) # the 8th column is the label\n",
    "        gtFile.close()\n",
    "    return images, labels\n"
   ]
  },
  {
   "cell_type": "markdown",
   "metadata": {},
   "source": [
    "#### Problems faced\n",
    "‘_csv.reader' object has no attribute 'next()'\n",
    "\n",
    "next(reader) instead of reader.next()"
   ]
  },
  {
   "cell_type": "code",
   "execution_count": 5,
   "metadata": {},
   "outputs": [],
   "source": [
    "trainImages, trainLabels = readTrafficSigns('/media/mohamed/C03CCDB43CCDA62E1/tutorials/Innopolis/1st/ML/HA/GTSRB/Final_Training/Images')"
   ]
  },
  {
   "cell_type": "markdown",
   "metadata": {},
   "source": [
    "### Transform images to same size"
   ]
  },
  {
   "cell_type": "code",
   "execution_count": 21,
   "metadata": {},
   "outputs": [],
   "source": [
    "# function that take image and return its transformed one square shape\n",
    "#maybe there is a more simple way to do it \n",
    "def Transform_image(image):\n",
    "    while(image.shape[0] != image.shape[1]):\n",
    "        if (image.shape[1] < image.shape[0]):\n",
    "            num_to_add = image.shape[0] - image.shape[1]\n",
    "            if(num_to_add %2 == 0):\n",
    "                image = np.pad(image,  ((0,0),(int(num_to_add/2),int(num_to_add/2)), (0,0)), mode='constant')\n",
    "            else:\n",
    "                image = np.pad(image,  ((0,0),(0,1), (0,0)), mode='constant')\n",
    "                num_to_add = num_to_add - 1\n",
    "        else: #cols is higher than rows\n",
    "            num_to_add = image.shape[1] - image.shape[0]\n",
    "            if(num_to_add %2 == 0):\n",
    "                image = np.pad(image,  ((int(num_to_add/2),int(num_to_add/2)),(0,0),(0,0)), mode='constant')\n",
    "            else:\n",
    "                image = np.pad(image,  ((1,0),(0,0),(0,0)), mode='constant')\n",
    "                num_to_add = num_to_add - 1\n",
    "    #return np.resize(image,(30,30,3))\n",
    "    return cv.resize(image, (30,30))"
   ]
  },
  {
   "cell_type": "markdown",
   "metadata": {},
   "source": [
    "#### Result of Padding and croping\n"
   ]
  },
  {
   "cell_type": "markdown",
   "metadata": {},
   "source": [
    "image before tranform"
   ]
  },
  {
   "cell_type": "code",
   "execution_count": 22,
   "metadata": {},
   "outputs": [
    {
     "data": {
      "text/plain": [
       "<matplotlib.image.AxesImage at 0x7fd0f52e3518>"
      ]
     },
     "execution_count": 22,
     "metadata": {},
     "output_type": "execute_result"
    },
    {
     "data": {
      "image/png": "[encoded data removed]",
      "text/plain": [
       "<Figure size 432x288 with 1 Axes>"
      ]
     },
     "metadata": {
      "needs_background": "light"
     },
     "output_type": "display_data"
    }
   ],
   "source": [
    "photo = np.asarray(trainImages[18])\n",
    "plt.imshow(photo)"
   ]
  },
  {
   "cell_type": "markdown",
   "metadata": {},
   "source": [
    "image after transformation"
   ]
  },
  {
   "cell_type": "code",
   "execution_count": 23,
   "metadata": {},
   "outputs": [
    {
     "name": "stdout",
     "output_type": "stream",
     "text": [
      "(30, 30, 3)\n"
     ]
    },
    {
     "data": {
      "image/png": "[encoded data removed]",
      "text/plain": [
       "<Figure size 432x288 with 1 Axes>"
      ]
     },
     "metadata": {
      "needs_background": "light"
     },
     "output_type": "display_data"
    }
   ],
   "source": [
    "photo = Transform_image(trainImages[18])\n",
    "plt.imshow(photo)\n",
    "print(photo.shape)"
   ]
  },
  {
   "cell_type": "code",
   "execution_count": 59,
   "metadata": {},
   "outputs": [],
   "source": [
    "for image in trainImages:\n",
    "    image = Transform_image(image)"
   ]
  },
  {
   "cell_type": "markdown",
   "metadata": {},
   "source": [
    "## split the data\n",
    "we have data for train and data for test so we can use them without spliting \n",
    "\n"
   ]
  },
  {
   "cell_type": "code",
   "execution_count": 8,
   "metadata": {},
   "outputs": [],
   "source": [
    "#Shuffle our data\n",
    "random.shuffle(images)\n",
    "#Spliting our data\n",
    "train_set = images[ :int(len(images)*0.8)]\n",
    "test_set = images[int(len(images)*0.8): ]\n",
    "train_set_np = np.asarray(train_set)"
   ]
  },
  {
   "cell_type": "markdown",
   "metadata": {},
   "source": [
    "## Data augmentation "
   ]
  },
  {
   "cell_type": "code",
   "execution_count": 9,
   "metadata": {},
   "outputs": [],
   "source": [
    "#In the Report you should justify your choice and provide examples of augmentation (original vs augmented images).\n",
    "#NB! The number of images of each class should be the same after the augmenation."
   ]
  },
  {
   "cell_type": "code",
   "execution_count": 10,
   "metadata": {
    "scrolled": true
   },
   "outputs": [
    {
     "data": {
      "text/plain": [
       "(-1, 43)"
      ]
     },
     "execution_count": 10,
     "metadata": {},
     "output_type": "execute_result"
    },
    {
     "data": {
      "image/png": "[encoded data removed]",
      "text/plain": [
       "<Figure size 432x288 with 1 Axes>"
      ]
     },
     "metadata": {
      "needs_background": "light"
     },
     "output_type": "display_data"
    }
   ],
   "source": [
    "#draw the data distribution before augmentation\n",
    "unique_elements, counts_elements = np.unique(trainLabels, return_counts = True)\n",
    "plt.bar( np.arange( 43 ), counts_elements, align='center',color='green' )\n",
    "plt.xlabel('Class')\n",
    "plt.ylabel('No of Training data')\n",
    "plt.xlim([-1, 43])"
   ]
  },
  {
   "cell_type": "code",
   "execution_count": 11,
   "metadata": {},
   "outputs": [
    {
     "data": {
      "text/plain": [
       "43"
      ]
     },
     "execution_count": 11,
     "metadata": {},
     "output_type": "execute_result"
    }
   ],
   "source": [
    "len(unique_elements)"
   ]
  },
  {
   "cell_type": "markdown",
   "metadata": {},
   "source": [
    "the function takes an image and apply rotation by 10 degrees also translation"
   ]
  },
  {
   "cell_type": "code",
   "execution_count": 34,
   "metadata": {},
   "outputs": [],
   "source": [
    "#data augment\n",
    "def data_augment(image):\n",
    "    rows= image.shape[0]\n",
    "    cols = image.shape[1]\n",
    "    \n",
    "    # rotation\n",
    "    M_rot = cv.getRotationMatrix2D((cols/2,rows/2),10,1)\n",
    "    \n",
    "    # Translation\n",
    "    M_trans = np.float32([[1,0,3],[0,1,6]])\n",
    "    \n",
    "    \n",
    "    img = cv.warpAffine(image,M_rot,(cols,rows))\n",
    "    img = cv.warpAffine(img,M_trans,(cols,rows))\n",
    "    #img = cv2.warpAffine(img,M_aff,(cols,rows))\n",
    "    \n",
    "    # Bilateral filtering\n",
    "    img = cv.bilateralFilter(img,9,75,75)\n",
    "    return img"
   ]
  },
  {
   "cell_type": "code",
   "execution_count": 35,
   "metadata": {},
   "outputs": [],
   "source": [
    "#augmenttaion\n",
    "classes = 43\n",
    "\n",
    "trainImages = np.asarray(trainImages)\n",
    "trainLabels = np.asarray(trainLabels, dtype=np.int)\n",
    "\n",
    "X_train_final = trainImages\n",
    "y_train_final = trainLabels\n",
    "X_aug_1 = []\n",
    "Y_aug_1 = []\n",
    "\n",
    "\n",
    "for i in range(0,43):\n",
    "    \n",
    "    class_records = np.asarray(np.where(trainLabels==i)).size\n",
    "    max_records = 2500\n",
    "    if class_records != max_records:\n",
    "        ovr_sample = max_records - class_records\n",
    "        samples = trainImages[np.where(trainLabels==i)[0]]\n",
    "        X_aug = []\n",
    "        Y_aug = [i] * ovr_sample\n",
    "        \n",
    "        for x in range(ovr_sample):\n",
    "            img = samples[x % class_records]\n",
    "            trans_img = data_augment(img)\n",
    "            X_aug.append(trans_img)\n",
    "            \n",
    "        X_train_final = np.concatenate((X_train_final, X_aug), axis=0)\n",
    "        y_train_final = np.concatenate((y_train_final, Y_aug)) \n",
    "        \n",
    "        Y_aug_1 = Y_aug_1 + Y_aug\n",
    "        X_aug_1 = X_aug_1 + X_aug\n"
   ]
  },
  {
   "cell_type": "markdown",
   "metadata": {},
   "source": [
    "### print data after augmentation"
   ]
  },
  {
   "cell_type": "code",
   "execution_count": 38,
   "metadata": {},
   "outputs": [
    {
     "data": {
      "text/plain": [
       "<BarContainer object of 43 artists>"
      ]
     },
     "execution_count": 38,
     "metadata": {},
     "output_type": "execute_result"
    },
    {
     "data": {
      "image/png": "[encoded data removed]",
      "text/plain": [
       "<Figure size 432x288 with 1 Axes>"
      ]
     },
     "metadata": {
      "needs_background": "light"
     },
     "output_type": "display_data"
    }
   ],
   "source": [
    "unique_elements, counts_elements = np.unique(y_train_final, return_counts = True)\n",
    "plt.bar( np.arange( 43 ), counts_elements, align='center',color='green' )"
   ]
  },
  {
   "cell_type": "markdown",
   "metadata": {},
   "source": [
    "### data normalization\n"
   ]
  },
  {
   "cell_type": "code",
   "execution_count": 60,
   "metadata": {},
   "outputs": [],
   "source": [
    "#the values of the pixels are between 0 and 255 \n",
    "for image in X_train_final:\n",
    "    image = image * 1/255\n"
   ]
  },
  {
   "cell_type": "code",
   "execution_count": null,
   "metadata": {},
   "outputs": [],
   "source": [
    "\n",
    "train_dataset = DataLoader(X_train_final, batch_size=1, shuffle=False, sampler=None,"
   ]
  },
  {
   "cell_type": "markdown",
   "metadata": {},
   "source": [
    "## Build Model"
   ]
  },
  {
   "cell_type": "code",
   "execution_count": null,
   "metadata": {},
   "outputs": [],
   "source": [
    "#simple fc network not a convolution\n",
    "from torch import nn\n",
    "batch_size = 100\n",
    "\n",
    "class Network(nn.Module):\n",
    "    def __init__(self):\n",
    "        super().__init__()\n",
    "        \n",
    "        # Inputs to hidden layer linear transformation\n",
    "        self.hidden = nn.Linear(batch_size*30*30, 256)\n",
    "        # Output layer, 10 units - one for each digit\n",
    "        self.output = nn.Linear(256, 43)\n",
    "        \n",
    "        # Define sigmoid activation and softmax output \n",
    "        self.sigmoid = nn.Sigmoid()\n",
    "        self.softmax = nn.Softmax(dim=1)\n",
    "        \n",
    "    def forward(self, x):\n",
    "        # Pass the input tensor through each of our operations\n",
    "        x = self.hidden(x)\n",
    "        x = self.sigmoid(x)\n",
    "        x = self.output(x)\n",
    "        x = self.softmax(x)\n",
    "        \n",
    "        return x"
   ]
  },
  {
   "cell_type": "code",
   "execution_count": null,
   "metadata": {},
   "outputs": [],
   "source": [
    "model = Network ()\n",
    "model.forward(X_train_final)"
   ]
  },
  {
   "cell_type": "markdown",
   "metadata": {},
   "source": [
    "### CNN Model"
   ]
  },
  {
   "cell_type": "code",
   "execution_count": null,
   "metadata": {},
   "outputs": [],
   "source": [
    "import torch\n",
    "import torch.nn as nn\n",
    "import torch.nn.functional as F\n",
    "import torch.optim as optim\n",
    "from torchvision import datasets, transforms\n",
    "from torch. utils.data import DataLoader\n",
    "\n",
    "class Net(nn.Module):#This defines the structure of the NN.def __init__(self):super(Net, self).__init__()\n",
    "# These are all operations that we are defining.# Unlike keras, this is not the network definition.\n",
    "# This is just initialization of the variables that \n",
    "# we are going to use in the `forward()` function.self.conv1 = nn.Conv2d(1, 10, kernel_size=5)self.conv2 = nn.Conv2d(10, 20, kernel_size=5)\n",
    "        \n",
    "    def __init__(self):\n",
    "        super(Net, self).__init__()\n",
    "        self.conv1 = nn.Conv2d(1, 10, kernel_size=5)\n",
    "        self.conv2 = nn.Conv2d(10, 20, kernel_size=5)\n",
    "        self.conv2_drop = nn.Dropout2d()\n",
    "        self.fc1 = nn.Linear(320, 50)\n",
    "        self.fc2 = nn.Linear(50, 43)\n",
    "\n",
    "    def forward(self, x):\n",
    "#         print(\"1\", x.shape)\n",
    "        x = F.relu(F.max_pool2d(self.conv1(x), 2))\n",
    "#         print(\"2\", x.shape)\n",
    "        x = F.relu(F.max_pool2d(self.conv2_drop(self.conv2(x)), 2))\n",
    "#         print(\"3\", x.shape)\n",
    "        x = x.view(-1, 320)\n",
    "#         print(\"4\", x.shape)\n",
    "        x = F.relu(self.fc1(x))\n",
    "        x = F.dropout(x, training=self.training)\n",
    "        x = self.fc2(x)\n",
    "        return F.log_softmax(x)\n",
    "\n",
    "use_cuda = torch.cuda.is_available()\n",
    "device = torch.device(\"cuda\" if use_cuda else \"cpu\")\n",
    "model_cnn = Net().to(device)"
   ]
  },
  {
   "cell_type": "markdown",
   "metadata": {},
   "source": [
    "### FC model"
   ]
  },
  {
   "cell_type": "code",
   "execution_count": null,
   "metadata": {},
   "outputs": [],
   "source": [
    "class Net(nn.Module):\n",
    "    def __init__(self):\n",
    "        super(Net, self).__init__()\n",
    "        self.fc1 = nn.Linear(28*28, 500)\n",
    "        self.fc2 = nn.Linear(500, 250)\n",
    "        self.fc3 = nn.Linear(250, 100)\n",
    "        self.fc4 = nn.Linear(100, 10)\n",
    "        # reducing number of params to match that of CNN\n",
    "#         self.fc1 = nn.Linear(28*28, 20)\n",
    "#         self.fc2 = nn.Linear(20, 100)\n",
    "#         self.fc3 = nn.Linear(100, 40)\n",
    "#         self.fc4 = nn.Linear(40, 10)\n",
    "\n",
    "    def forward(self, x):\n",
    "        x = x.view(-1, 28*28)\n",
    "        x = F.relu(self.fc1(x))\n",
    "        \n",
    "        x = F.relu(self.fc2(x))\n",
    "        x = F.relu(self.fc3(x))\n",
    "        x = self.fc4(x)\n",
    "        return F.log_softmax(x, dim=1)\n",
    "    \n",
    "use_cuda = torch.cuda.is_available()\n",
    "device = torch.device(\"cuda\" if use_cuda else \"cpu\")\n",
    "model_nn = Net().to(device)"
   ]
  },
  {
   "cell_type": "markdown",
   "metadata": {},
   "source": [
    "## References\n",
    "Padding and resizing: \n",
    "https://stackoverflow.com/questions/35196424/re-sizing-a-rectangular-image-to-a-square-image?rq=1\n",
    "\n",
    "https://docs.scipy.org/doc/numpy/reference/generated/numpy.pad.html\n",
    "split dataset: https://medium.com/@contactsunny/how-to-split-your-dataset-to-train-and-test-datasets-using-scikit-learn-e7cf6eb5e0d"
   ]
  }
 ],
 "metadata": {
  "kernelspec": {
   "display_name": "Python 3",
   "language": "python",
   "name": "python3"
  },
  "language_info": {
   "codemirror_mode": {
    "name": "ipython",
    "version": 3
   },
   "file_extension": ".py",
   "mimetype": "text/x-python",
   "name": "python",
   "nbconvert_exporter": "python",
   "pygments_lexer": "ipython3",
   "version": "3.7.3"
  }
 },
 "nbformat": 4,
 "nbformat_minor": 2
}
