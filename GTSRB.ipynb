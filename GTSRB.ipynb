{
 "cells": [
  {
   "cell_type": "markdown",
   "metadata": {},
   "source": [
    "# GTSRB task"
   ]
  },
  {
   "cell_type": "code",
   "execution_count": 9,
   "metadata": {},
   "outputs": [],
   "source": [
    "import numpy as np\n",
    "import cv2 as cv"
   ]
  },
  {
   "cell_type": "code",
   "execution_count": 10,
   "metadata": {},
   "outputs": [],
   "source": [
    "#TODO read the data \n",
    "# The German Traffic Sign Recognition Benchmark\n",
    "#\n",
    "# sample code for reading the traffic sign images and the\n",
    "# corresponding labels\n",
    "#\n",
    "# example:\n",
    "#            \n",
    "# trainImages, trainLabels = readTrafficSigns('GTSRB/Training')\n",
    "# print len(trainLabels), len(trainImages)\n",
    "# plt.imshow(trainImages[42])\n",
    "# plt.show()\n",
    "#\n",
    "# have fun, Christian\n",
    "\n",
    "import matplotlib.pyplot as plt\n",
    "import csv\n",
    "\n",
    "# function for reading the images\n",
    "# arguments: path to the traffic sign data, for example './GTSRB/Training'\n",
    "# returns: list of images, list of corresponding labels \n",
    "def readTrafficSigns(rootpath):\n",
    "    '''Reads traffic sign data for German Traffic Sign Recognition Benchmark.\n",
    "\n",
    "    Arguments: path to the traffic sign data, for example './GTSRB/Training'\n",
    "    Returns:   list of images, list of corresponding labels'''\n",
    "    images = [] # images\n",
    "    labels = [] # corresponding labels\n",
    "    # loop over all 42 classes\n",
    "    for c in range(0,43):\n",
    "        prefix = rootpath + '/' + format(c, '05d') + '/' # subdirectory for class\n",
    "        gtFile = open(prefix + 'GT-'+ format(c, '05d') + '.csv') # annotations file\n",
    "        gtReader = csv.reader(gtFile, delimiter=';') # csv parser for annotations file\n",
    "        next(gtReader) # skip header\n",
    "        # loop over all images in current annotations file\n",
    "        for row in gtReader:\n",
    "            images.append(plt.imread(prefix + row[0])) # the 1th column is the filename\n",
    "            labels.append(row[7]) # the 8th column is the label\n",
    "        gtFile.close()\n",
    "    return images, labels\n"
   ]
  },
  {
   "cell_type": "markdown",
   "metadata": {},
   "source": [
    "#### Problems faced\n",
    "‘_csv.reader' object has no attribute 'next()'\n",
    "\n",
    "next(reader) instead of reader.next()"
   ]
  },
  {
   "cell_type": "markdown",
   "metadata": {},
   "source": [
    "### Read the data"
   ]
  },
  {
   "cell_type": "code",
   "execution_count": 11,
   "metadata": {},
   "outputs": [],
   "source": [
    "trainImages, trainLabels = readTrafficSigns('/media/mohamed/C03CCDB43CCDA62E1/tutorials/Innopolis/1st/ML/HA/GTSRB/Final_Training/Images')"
   ]
  },
  {
   "cell_type": "markdown",
   "metadata": {},
   "source": [
    "### Transform images to same size"
   ]
  },
  {
   "cell_type": "code",
   "execution_count": 40,
   "metadata": {},
   "outputs": [],
   "source": [
    "# function that take image and return its transformed one\n",
    "def Transform_image(image):\n",
    "    while(image.shape[0] != image.shape[1]):\n",
    "        if (image.shape[1] < image.shape[0]):\n",
    "            num_to_add = image.shape[0] - image.shape[1]\n",
    "            if(num_to_add %2 == 0):\n",
    "                image = np.pad(image,  ((0,0),(int(num_to_add/2),int(num_to_add/2)), (0,0)), mode='constant')\n",
    "            else:\n",
    "                image = np.pad(image,  ((0,0),(0,1), (0,0)), mode='constant')\n",
    "                num_to_add = num_to_add - 1\n",
    "        else: #cols is higher than rows\n",
    "            num_to_add = image.shape[1] - image.shape[0]\n",
    "            if(num_to_add %2 == 0):\n",
    "                image = np.pad(image,  ((int(num_to_add/2),int(num_to_add/2)),(0,0),(0,0)), mode='constant')\n",
    "            else:\n",
    "                image = np.pad(image,  ((1,0),(0,0),(0,0)), mode='constant')\n",
    "                num_to_add = num_to_add - 1\n",
    "    return image"
   ]
  },
  {
   "cell_type": "code",
   "execution_count": 45,
   "metadata": {},
   "outputs": [
    {
     "name": "stdout",
     "output_type": "stream",
     "text": [
      "(48, 50, 3)\n",
      "(50, 50, 3)\n",
      "(30, 30, 3)\n"
     ]
    }
   ],
   "source": [
    "photo = np.asarray(trainImages[18])\n",
    "print(photo.shape)\n",
    "#photo = np.pad(photo,  ((0,0),(0,1),(0,0)), mode='constant')\n",
    "photo = Transform_image(photo)\n",
    "print(photo.shape)\n",
    "photo = np.resize(photo, (30,30,3))\n",
    "print(photo.shape)"
   ]
  },
  {
   "cell_type": "markdown",
   "metadata": {},
   "source": [
    "## References\n",
    "Padding and resizing: \n",
    "https://stackoverflow.com/questions/35196424/re-sizing-a-rectangular-image-to-a-square-image?rq=1\n",
    "\n",
    "https://docs.scipy.org/doc/numpy/reference/generated/numpy.pad.html"
   ]
  },
  {
   "cell_type": "code",
   "execution_count": null,
   "metadata": {},
   "outputs": [],
   "source": []
  }
 ],
 "metadata": {
  "kernelspec": {
   "display_name": "Python 3",
   "language": "python",
   "name": "python3"
  },
  "language_info": {
   "codemirror_mode": {
    "name": "ipython",
    "version": 3
   },
   "file_extension": ".py",
   "mimetype": "text/x-python",
   "name": "python",
   "nbconvert_exporter": "python",
   "pygments_lexer": "ipython3",
   "version": "3.7.3"
  }
 },
 "nbformat": 4,
 "nbformat_minor": 2
}
